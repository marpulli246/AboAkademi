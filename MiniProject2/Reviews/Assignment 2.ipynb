{
 "cells": [
  {
   "cell_type": "code",
   "execution_count": 49,
   "metadata": {},
   "outputs": [],
   "source": [
    "# Used imports\n",
    "import pandas as pd\n",
    "import matplotlib.pyplot as plt\n",
    "from sklearn.model_selection import train_test_split\n",
    "from sklearn.feature_extraction.text import CountVectorizer\n",
    "from sklearn.linear_model import LogisticRegression\n",
    "from sklearn.ensemble import RandomForestClassifier\n",
    "from sklearn.metrics import classification_report, confusion_matrix, accuracy_score\n",
    "from sklearn.metrics import plot_roc_curve"
   ]
  },
  {
   "cell_type": "code",
   "execution_count": 50,
   "metadata": {},
   "outputs": [],
   "source": [
    "# Read data\n",
    "data = pd.read_csv('Sentiment140.tenPercent.sample.tweets.tsv', sep='\\t')"
   ]
  },
  {
   "cell_type": "code",
   "execution_count": 51,
   "metadata": {},
   "outputs": [],
   "source": [
    "# split into features and labels\n",
    "features = data['tweet_text'].values\n",
    "labels = data['sentiment_label'].values"
   ]
  },
  {
   "cell_type": "code",
   "execution_count": 52,
   "metadata": {},
   "outputs": [],
   "source": [
    "# Split into train and test\n",
    "feat_train, feat_test, label_train, label_test = train_test_split(features, labels, test_size=0.2, random_state=1)"
   ]
  },
  {
   "cell_type": "code",
   "execution_count": 53,
   "metadata": {},
   "outputs": [],
   "source": [
    "# Vectorize the text\n",
    "vectorizer = CountVectorizer()\n",
    "vectorizer.fit(feat_train)\n",
    "X_train = vectorizer.transform(feat_train)\n",
    "X_test = vectorizer.transform(feat_test)"
   ]
  },
  {
   "cell_type": "code",
   "execution_count": 54,
   "metadata": {},
   "outputs": [
    {
     "data": {
      "text/plain": [
       "LogisticRegression(max_iter=1000)"
      ]
     },
     "execution_count": 54,
     "metadata": {},
     "output_type": "execute_result"
    }
   ],
   "source": [
    "# Create first classifier.\n",
    "classifier = LogisticRegression(max_iter=1000)\n",
    "classifier.fit(X_train, label_train)"
   ]
  },
  {
   "cell_type": "code",
   "execution_count": 55,
   "metadata": {},
   "outputs": [],
   "source": [
    "# Save predictions\n",
    "predictions = classifier.predict(X_test)"
   ]
  },
  {
   "cell_type": "code",
   "execution_count": 56,
   "metadata": {},
   "outputs": [
    {
     "data": {
      "text/plain": [
       "RandomForestClassifier(n_estimators=5, random_state=0)"
      ]
     },
     "execution_count": 56,
     "metadata": {},
     "output_type": "execute_result"
    }
   ],
   "source": [
    "# Create second classifier\n",
    "classifier2 = RandomForestClassifier(n_estimators=5, random_state=0)\n",
    "classifier2.fit(X_train, label_train)"
   ]
  },
  {
   "cell_type": "code",
   "execution_count": 57,
   "metadata": {},
   "outputs": [],
   "source": [
    "# Save predictions\n",
    "predictions2 = classifier2.predict(X_test)"
   ]
  },
  {
   "cell_type": "code",
   "execution_count": 58,
   "metadata": {},
   "outputs": [
    {
     "name": "stdout",
     "output_type": "stream",
     "text": [
      "Stats for LogisticRegression model:\n",
      "[[12182  3687]\n",
      " [ 3413 12718]]\n",
      "              precision    recall  f1-score   support\n",
      "\n",
      "           0       0.78      0.77      0.77     15869\n",
      "           4       0.78      0.79      0.78     16131\n",
      "\n",
      "    accuracy                           0.78     32000\n",
      "   macro avg       0.78      0.78      0.78     32000\n",
      "weighted avg       0.78      0.78      0.78     32000\n",
      "\n",
      "0.778125\n",
      "\n",
      "Stats for RandomForestClassifier model:\n",
      "[[11341  4528]\n",
      " [ 4825 11306]]\n",
      "              precision    recall  f1-score   support\n",
      "\n",
      "           0       0.70      0.71      0.71     15869\n",
      "           4       0.71      0.70      0.71     16131\n",
      "\n",
      "    accuracy                           0.71     32000\n",
      "   macro avg       0.71      0.71      0.71     32000\n",
      "weighted avg       0.71      0.71      0.71     32000\n",
      "\n",
      "0.70771875\n"
     ]
    }
   ],
   "source": [
    "# Print all the stats\n",
    "print(\"Stats for LogisticRegression model:\")\n",
    "print(confusion_matrix(label_test,predictions))\n",
    "print(classification_report(label_test,predictions))\n",
    "print(accuracy_score(label_test, predictions))\n",
    "\n",
    "\n",
    "print(\"\\nStats for RandomForestClassifier model:\")\n",
    "print(confusion_matrix(label_test,predictions2))\n",
    "print(classification_report(label_test,predictions2))\n",
    "print(accuracy_score(label_test, predictions2))"
   ]
  },
  {
   "cell_type": "code",
   "execution_count": 59,
   "metadata": {},
   "outputs": [
    {
     "data": {
      "image/png": "[encoded data removed]",
      "text/plain": [
       "<Figure size 432x288 with 1 Axes>"
      ]
     },
     "metadata": {
      "needs_background": "light"
     },
     "output_type": "display_data"
    }
   ],
   "source": [
    "# ROC Curve of the two models.\n",
    "disp = plot_roc_curve(classifier, X_test, label_test)\n",
    "ax = plt.gca()\n",
    "rfc_disp = plot_roc_curve(classifier2, X_test, label_test, ax=ax, alpha=0.8)"
   ]
  },
  {
   "cell_type": "code",
   "execution_count": null,
   "metadata": {},
   "outputs": [],
   "source": []
  }
 ],
 "metadata": {
  "kernelspec": {
   "display_name": "Python 3",
   "language": "python",
   "name": "python3"
  },
  "language_info": {
   "codemirror_mode": {
    "name": "ipython",
    "version": 3
   },
   "file_extension": ".py",
   "mimetype": "text/x-python",
   "name": "python",
   "nbconvert_exporter": "python",
   "pygments_lexer": "ipython3",
   "version": "3.8.5"
  }
 },
 "nbformat": 4,
 "nbformat_minor": 4
}
